{
 "cells": [
  {
   "cell_type": "code",
   "execution_count": null,
   "id": "889524c5",
   "metadata": {},
   "outputs": [],
   "source": [
    "import numpy as np\n",
    "import networkx as nx\n",
    "import matplotlib.pyplot as plt\n",
    "import csv\n",
    "import pandas as pd\n",
    "import matplotlib\n",
    "from matplotlib.pyplot import figure, text"
   ]
  },
  {
   "cell_type": "code",
   "execution_count": null,
   "id": "5aac0d66",
   "metadata": {},
   "outputs": [],
   "source": [
    "df = pd.read_csv('twitter_followers_followers.csv')\n",
    "carac = pd.read_excel('twitter_followers_types.xlsx')"
   ]
  },
  {
   "cell_type": "code",
   "execution_count": null,
   "id": "eebe1deb",
   "metadata": {},
   "outputs": [],
   "source": [
    "Graphtype = nx.Graph()\n",
    "G = nx.from_pandas_edgelist(df, source='source', target='target', create_using=nx.DiGraph())\n",
    "G.nodes()"
   ]
  },
  {
   "cell_type": "code",
   "execution_count": null,
   "id": "5e490551",
   "metadata": {},
   "outputs": [],
   "source": [
    "# Make types into categories\n",
    "carac = carac.set_index('source')\n",
    "carac = carac.reindex(G.nodes())\n",
    "carac['type']=pd.Categorical(carac['type'])\n",
    "carac['type'].cat.codes"
   ]
  },
  {
   "cell_type": "code",
   "execution_count": null,
   "id": "f1b27d3a",
   "metadata": {},
   "outputs": [],
   "source": [
    "# Specify colors\n",
    "cmap = matplotlib.colors.ListedColormap(['blue', 'darkorange', \"green\"])"
   ]
  },
  {
   "cell_type": "code",
   "execution_count": null,
   "id": "afd982f5",
   "metadata": {},
   "outputs": [],
   "source": [
    "# Node Degrees\n",
    "d = nx.degree(G)\n",
    "degree_values = [v * 50 for k, v in d]\n",
    "\n",
    "# font sizes\n",
    "d = dict(G.degree)"
   ]
  },
  {
   "cell_type": "code",
   "execution_count": null,
   "id": "35ac4306",
   "metadata": {},
   "outputs": [],
   "source": [
    "# set position for text in the graph\n",
    "pos = nx.spring_layout(G)"
   ]
  },
  {
   "cell_type": "code",
   "execution_count": null,
   "id": "5bff81be",
   "metadata": {},
   "outputs": [],
   "source": [
    "plt.figure(figsize = (20,20))\n",
    "nx.draw(G, with_labels=True, pos=pos, node_size=degree_values, node_color=carac['type'].cat.codes, cmap=cmap)\n",
    "for node, (x, y) in pos.items():\n",
    "    text(x, y, node, fontsize=d[node]*0.05, ha='center', va='center')  \n",
    "plt.show()"
   ]
  },
  {
   "cell_type": "code",
   "execution_count": null,
   "id": "0ca8c05e",
   "metadata": {},
   "outputs": [],
   "source": [
    "plt.figure(figsize = (20,20))\n",
    "nx.draw(G, with_labels=True, node_size=degree_values, node_color=carac['type'].cat.codes, font_size=10, cmap=cmap)\n",
    "plt.show()"
   ]
  },
  {
   "cell_type": "code",
   "execution_count": null,
   "id": "3d85e7e3",
   "metadata": {},
   "outputs": [],
   "source": [
    "edge_list = list(G.edges())\n",
    "\n",
    "total_num_edges = 0\n",
    "all_edges = []\n",
    "reciprocating_edges = []\n",
    "for (source, target) in edge_list:\n",
    "    if (str(source) + \"<->\" + str(target)) not in reciprocating_edges:\n",
    "        total_num_edges += 1\n",
    "        all_edges.append(str(source) + \"-\" + str(target))\n",
    "        \n",
    "        if G.has_edge(target, source):\n",
    "            print(\"=========== Nodes \", source, \"and\", target, \" have a bi-directional/reciprocal edge =========\")\n",
    "            reciprocating_edges.append( str(target) + \"<->\" + str(source) )\n",
    "\n",
    "print(\"\\nTotal number of edges: \", total_num_edges)\n",
    "# print(all_edges)\n",
    "print(\"\\nTotal number of 'reciprocating' edges: \", len(reciprocating_edges))\n",
    "print(reciprocating_edges)\n",
    "\n",
    "network_reciprocity = len(reciprocating_edges) / len(all_edges)\n",
    "print(\"\\nNetwork-level Reciprocity: %.3f\" % network_reciprocity)"
   ]
  },
  {
   "cell_type": "code",
   "execution_count": null,
   "id": "f13cb456",
   "metadata": {},
   "outputs": [],
   "source": [
    "nx.write_gexf(G, \"twitter_followers.gexf\")"
   ]
  }
 ],
 "metadata": {
  "kernelspec": {
   "display_name": "Python 3 (ipykernel)",
   "language": "python",
   "name": "python3"
  },
  "language_info": {
   "codemirror_mode": {
    "name": "ipython",
    "version": 3
   },
   "file_extension": ".py",
   "mimetype": "text/x-python",
   "name": "python",
   "nbconvert_exporter": "python",
   "pygments_lexer": "ipython3",
   "version": "3.9.7"
  }
 },
 "nbformat": 4,
 "nbformat_minor": 5
}
