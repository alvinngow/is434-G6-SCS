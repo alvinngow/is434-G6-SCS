{
 "cells": [
  {
   "cell_type": "code",
   "execution_count": 6,
   "id": "fed6e285",
   "metadata": {},
   "outputs": [],
   "source": [
    "from urllib.request import urlopen\n",
    "html=urlopen(\"https://www.linkedin.com/search/results/content/?keywords=singapore%20children%27s%20society&origin=FACETED_SEARCH&position=0&searchId=a6b7e713-53f0-439c-850f-ab724d886e25&sid=%3BOv&sortBy=%22relevance%22\").read()\n"
   ]
  },
  {
   "cell_type": "code",
   "execution_count": 8,
   "id": "0f1b9807",
   "metadata": {},
   "outputs": [
    {
     "ename": "NameError",
     "evalue": "name 'build_opener' is not defined",
     "output_type": "error",
     "traceback": [
      "\u001b[1;31m---------------------------------------------------------------------------\u001b[0m",
      "\u001b[1;31mNameError\u001b[0m                                 Traceback (most recent call last)",
      "Input \u001b[1;32mIn [8]\u001b[0m, in \u001b[0;36m<cell line: 1>\u001b[1;34m()\u001b[0m\n\u001b[1;32m----> 1\u001b[0m urlopener\u001b[38;5;241m=\u001b[39m \u001b[43mbuild_opener\u001b[49m()\n\u001b[0;32m      2\u001b[0m urlopener\u001b[38;5;241m.\u001b[39maddheaders \u001b[38;5;241m=\u001b[39m [(\u001b[38;5;124m'\u001b[39m\u001b[38;5;124mUser-agent\u001b[39m\u001b[38;5;124m'\u001b[39m, \u001b[38;5;124m'\u001b[39m\u001b[38;5;124mMozilla/5.0\u001b[39m\u001b[38;5;124m'\u001b[39m)]\n\u001b[0;32m      3\u001b[0m html\u001b[38;5;241m=\u001b[39m urlopener\u001b[38;5;241m.\u001b[39mopen(\u001b[38;5;124m'\u001b[39m\u001b[38;5;124mhttps://www.linkedin.com/search/results/content/?keywords=singapore\u001b[39m\u001b[38;5;132;01m%20c\u001b[39;00m\u001b[38;5;124mhildren\u001b[39m\u001b[38;5;132;01m%27s\u001b[39;00m\u001b[38;5;132;01m%20s\u001b[39;00m\u001b[38;5;124mociety&origin=FACETED_SEARCH&position=0&searchId=a6b7e713-53f0-439c-850f-ab724d886e25&sid=\u001b[39m\u001b[38;5;124m%\u001b[39m\u001b[38;5;124m3BOv&sortBy=\u001b[39m\u001b[38;5;132;01m%22r\u001b[39;00m\u001b[38;5;124melevance\u001b[39m\u001b[38;5;124m%\u001b[39m\u001b[38;5;124m22\u001b[39m\u001b[38;5;124m'\u001b[39m)\u001b[38;5;241m.\u001b[39mread()\n",
      "\u001b[1;31mNameError\u001b[0m: name 'build_opener' is not defined"
     ]
    }
   ],
   "source": [
    "# urlopener= urllib.build_opener()\n",
    "# urlopener.addheaders = [('User-agent', 'Mozilla/5.0')]\n",
    "# html= urlopener.open('https://www.linkedin.com/search/results/content/?keywords=singapore%20children%27s%20society&origin=FACETED_SEARCH&position=0&searchId=a6b7e713-53f0-439c-850f-ab724d886e25&sid=%3BOv&sortBy=%22relevance%22').read()"
   ]
  },
  {
   "cell_type": "code",
   "execution_count": null,
   "id": "c564e625",
   "metadata": {},
   "outputs": [],
   "source": []
  }
 ],
 "metadata": {
  "kernelspec": {
   "display_name": "Python 3 (ipykernel)",
   "language": "python",
   "name": "python3"
  },
  "language_info": {
   "codemirror_mode": {
    "name": "ipython",
    "version": 3
   },
   "file_extension": ".py",
   "mimetype": "text/x-python",
   "name": "python",
   "nbconvert_exporter": "python",
   "pygments_lexer": "ipython3",
   "version": "3.9.7"
  }
 },
 "nbformat": 4,
 "nbformat_minor": 5
}
